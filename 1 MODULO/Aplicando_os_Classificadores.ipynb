{
  "nbformat": 4,
  "nbformat_minor": 0,
  "metadata": {
    "colab": {
      "name": "Aplicando os Classificadores.ipynb",
      "provenance": []
    },
    "kernelspec": {
      "name": "python3",
      "display_name": "Python 3"
    },
    "accelerator": "GPU"
  },
  "cells": [
    {
      "cell_type": "code",
      "metadata": {
        "id": "5Ye_3VQxRlkC",
        "colab_type": "code",
        "colab": {
          "base_uri": "https://localhost:8080/",
          "height": 71
        },
        "outputId": "ba170419-cb98-411e-b918-d65dd13386ed"
      },
      "source": [
        "#Importando bibliotecas\n",
        "\n",
        "import pandas as pd\n",
        "import numpy as np\n",
        "\n",
        "from sklearn.model_selection import train_test_split, cross_val_score, cross_val_predict, KFold\n",
        "from sklearn.linear_model import LogisticRegression\n",
        "from sklearn.svm import SVC\n",
        "from sklearn import tree\n",
        "from sklearn.tree import DecisionTreeClassifier\n",
        "from sklearn.ensemble import RandomForestClassifier\n",
        "from sklearn.neighbors import KNeighborsClassifier\n",
        "\n",
        "from sklearn.metrics import mean_absolute_error\n",
        "from sklearn.metrics import mean_squared_error\n",
        "from sklearn import metrics\n",
        "\n",
        "\n",
        "import seaborn as sns\n",
        "import matplotlib.pyplot as plt\n"
      ],
      "execution_count": 1,
      "outputs": [
        {
          "output_type": "stream",
          "text": [
            "/usr/local/lib/python3.6/dist-packages/statsmodels/tools/_testing.py:19: FutureWarning: pandas.util.testing is deprecated. Use the functions in the public API at pandas.testing instead.\n",
            "  import pandas.util.testing as tm\n"
          ],
          "name": "stderr"
        }
      ]
    },
    {
      "cell_type": "code",
      "metadata": {
        "id": "hdEPF-RdSo_h",
        "colab_type": "code",
        "colab": {
          "base_uri": "https://localhost:8080/",
          "height": 309
        },
        "outputId": "4a5159b9-6893-4e99-a92b-44abbc0657aa"
      },
      "source": [
        "#Carregando os dados\n",
        "\n",
        "data = pd.read_csv(\"character-predictions.csv\") #Realiza leitura do arquivo\n",
        "data.head()"
      ],
      "execution_count": 3,
      "outputs": [
        {
          "output_type": "execute_result",
          "data": {
            "text/html": [
              "<div>\n",
              "<style scoped>\n",
              "    .dataframe tbody tr th:only-of-type {\n",
              "        vertical-align: middle;\n",
              "    }\n",
              "\n",
              "    .dataframe tbody tr th {\n",
              "        vertical-align: top;\n",
              "    }\n",
              "\n",
              "    .dataframe thead th {\n",
              "        text-align: right;\n",
              "    }\n",
              "</style>\n",
              "<table border=\"1\" class=\"dataframe\">\n",
              "  <thead>\n",
              "    <tr style=\"text-align: right;\">\n",
              "      <th></th>\n",
              "      <th>S.No</th>\n",
              "      <th>actual</th>\n",
              "      <th>pred</th>\n",
              "      <th>alive</th>\n",
              "      <th>plod</th>\n",
              "      <th>name</th>\n",
              "      <th>title</th>\n",
              "      <th>male</th>\n",
              "      <th>culture</th>\n",
              "      <th>dateOfBirth</th>\n",
              "      <th>DateoFdeath</th>\n",
              "      <th>mother</th>\n",
              "      <th>father</th>\n",
              "      <th>heir</th>\n",
              "      <th>house</th>\n",
              "      <th>spouse</th>\n",
              "      <th>book1</th>\n",
              "      <th>book2</th>\n",
              "      <th>book3</th>\n",
              "      <th>book4</th>\n",
              "      <th>book5</th>\n",
              "      <th>isAliveMother</th>\n",
              "      <th>isAliveFather</th>\n",
              "      <th>isAliveHeir</th>\n",
              "      <th>isAliveSpouse</th>\n",
              "      <th>isMarried</th>\n",
              "      <th>isNoble</th>\n",
              "      <th>age</th>\n",
              "      <th>numDeadRelations</th>\n",
              "      <th>boolDeadRelations</th>\n",
              "      <th>isPopular</th>\n",
              "      <th>popularity</th>\n",
              "      <th>isAlive</th>\n",
              "    </tr>\n",
              "  </thead>\n",
              "  <tbody>\n",
              "    <tr>\n",
              "      <th>0</th>\n",
              "      <td>1</td>\n",
              "      <td>0</td>\n",
              "      <td>0</td>\n",
              "      <td>0.054</td>\n",
              "      <td>0.946</td>\n",
              "      <td>Viserys II Targaryen</td>\n",
              "      <td>NaN</td>\n",
              "      <td>1</td>\n",
              "      <td>NaN</td>\n",
              "      <td>NaN</td>\n",
              "      <td>NaN</td>\n",
              "      <td>Rhaenyra Targaryen</td>\n",
              "      <td>Daemon Targaryen</td>\n",
              "      <td>Aegon IV Targaryen</td>\n",
              "      <td>NaN</td>\n",
              "      <td>NaN</td>\n",
              "      <td>0</td>\n",
              "      <td>0</td>\n",
              "      <td>0</td>\n",
              "      <td>0</td>\n",
              "      <td>0</td>\n",
              "      <td>1.0</td>\n",
              "      <td>0.0</td>\n",
              "      <td>0.0</td>\n",
              "      <td>NaN</td>\n",
              "      <td>0</td>\n",
              "      <td>0</td>\n",
              "      <td>NaN</td>\n",
              "      <td>11</td>\n",
              "      <td>1</td>\n",
              "      <td>1</td>\n",
              "      <td>0.605351</td>\n",
              "      <td>0</td>\n",
              "    </tr>\n",
              "    <tr>\n",
              "      <th>1</th>\n",
              "      <td>2</td>\n",
              "      <td>1</td>\n",
              "      <td>0</td>\n",
              "      <td>0.387</td>\n",
              "      <td>0.613</td>\n",
              "      <td>Walder Frey</td>\n",
              "      <td>Lord of the Crossing</td>\n",
              "      <td>1</td>\n",
              "      <td>Rivermen</td>\n",
              "      <td>208.0</td>\n",
              "      <td>NaN</td>\n",
              "      <td>NaN</td>\n",
              "      <td>NaN</td>\n",
              "      <td>NaN</td>\n",
              "      <td>House Frey</td>\n",
              "      <td>Perra Royce</td>\n",
              "      <td>1</td>\n",
              "      <td>1</td>\n",
              "      <td>1</td>\n",
              "      <td>1</td>\n",
              "      <td>1</td>\n",
              "      <td>NaN</td>\n",
              "      <td>NaN</td>\n",
              "      <td>NaN</td>\n",
              "      <td>1.0</td>\n",
              "      <td>1</td>\n",
              "      <td>1</td>\n",
              "      <td>97.0</td>\n",
              "      <td>1</td>\n",
              "      <td>1</td>\n",
              "      <td>1</td>\n",
              "      <td>0.896321</td>\n",
              "      <td>1</td>\n",
              "    </tr>\n",
              "    <tr>\n",
              "      <th>2</th>\n",
              "      <td>3</td>\n",
              "      <td>1</td>\n",
              "      <td>0</td>\n",
              "      <td>0.493</td>\n",
              "      <td>0.507</td>\n",
              "      <td>Addison Hill</td>\n",
              "      <td>Ser</td>\n",
              "      <td>1</td>\n",
              "      <td>NaN</td>\n",
              "      <td>NaN</td>\n",
              "      <td>NaN</td>\n",
              "      <td>NaN</td>\n",
              "      <td>NaN</td>\n",
              "      <td>NaN</td>\n",
              "      <td>House Swyft</td>\n",
              "      <td>NaN</td>\n",
              "      <td>0</td>\n",
              "      <td>0</td>\n",
              "      <td>0</td>\n",
              "      <td>1</td>\n",
              "      <td>0</td>\n",
              "      <td>NaN</td>\n",
              "      <td>NaN</td>\n",
              "      <td>NaN</td>\n",
              "      <td>NaN</td>\n",
              "      <td>0</td>\n",
              "      <td>1</td>\n",
              "      <td>NaN</td>\n",
              "      <td>0</td>\n",
              "      <td>0</td>\n",
              "      <td>0</td>\n",
              "      <td>0.267559</td>\n",
              "      <td>1</td>\n",
              "    </tr>\n",
              "    <tr>\n",
              "      <th>3</th>\n",
              "      <td>4</td>\n",
              "      <td>0</td>\n",
              "      <td>0</td>\n",
              "      <td>0.076</td>\n",
              "      <td>0.924</td>\n",
              "      <td>Aemma Arryn</td>\n",
              "      <td>Queen</td>\n",
              "      <td>0</td>\n",
              "      <td>NaN</td>\n",
              "      <td>82.0</td>\n",
              "      <td>105.0</td>\n",
              "      <td>NaN</td>\n",
              "      <td>NaN</td>\n",
              "      <td>NaN</td>\n",
              "      <td>House Arryn</td>\n",
              "      <td>Viserys I Targaryen</td>\n",
              "      <td>0</td>\n",
              "      <td>0</td>\n",
              "      <td>0</td>\n",
              "      <td>0</td>\n",
              "      <td>0</td>\n",
              "      <td>NaN</td>\n",
              "      <td>NaN</td>\n",
              "      <td>NaN</td>\n",
              "      <td>0.0</td>\n",
              "      <td>1</td>\n",
              "      <td>1</td>\n",
              "      <td>23.0</td>\n",
              "      <td>0</td>\n",
              "      <td>0</td>\n",
              "      <td>0</td>\n",
              "      <td>0.183946</td>\n",
              "      <td>0</td>\n",
              "    </tr>\n",
              "    <tr>\n",
              "      <th>4</th>\n",
              "      <td>5</td>\n",
              "      <td>1</td>\n",
              "      <td>1</td>\n",
              "      <td>0.617</td>\n",
              "      <td>0.383</td>\n",
              "      <td>Sylva Santagar</td>\n",
              "      <td>Greenstone</td>\n",
              "      <td>0</td>\n",
              "      <td>Dornish</td>\n",
              "      <td>276.0</td>\n",
              "      <td>NaN</td>\n",
              "      <td>NaN</td>\n",
              "      <td>NaN</td>\n",
              "      <td>NaN</td>\n",
              "      <td>House Santagar</td>\n",
              "      <td>Eldon Estermont</td>\n",
              "      <td>0</td>\n",
              "      <td>0</td>\n",
              "      <td>0</td>\n",
              "      <td>1</td>\n",
              "      <td>0</td>\n",
              "      <td>NaN</td>\n",
              "      <td>NaN</td>\n",
              "      <td>NaN</td>\n",
              "      <td>1.0</td>\n",
              "      <td>1</td>\n",
              "      <td>1</td>\n",
              "      <td>29.0</td>\n",
              "      <td>0</td>\n",
              "      <td>0</td>\n",
              "      <td>0</td>\n",
              "      <td>0.043478</td>\n",
              "      <td>1</td>\n",
              "    </tr>\n",
              "  </tbody>\n",
              "</table>\n",
              "</div>"
            ],
            "text/plain": [
              "   S.No  actual  pred  alive  ...  boolDeadRelations isPopular popularity  isAlive\n",
              "0     1       0     0  0.054  ...                  1         1   0.605351        0\n",
              "1     2       1     0  0.387  ...                  1         1   0.896321        1\n",
              "2     3       1     0  0.493  ...                  0         0   0.267559        1\n",
              "3     4       0     0  0.076  ...                  0         0   0.183946        0\n",
              "4     5       1     1  0.617  ...                  0         0   0.043478        1\n",
              "\n",
              "[5 rows x 33 columns]"
            ]
          },
          "metadata": {
            "tags": []
          },
          "execution_count": 3
        }
      ]
    },
    {
      "cell_type": "code",
      "metadata": {
        "id": "RSVhEy82S1or",
        "colab_type": "code",
        "colab": {
          "base_uri": "https://localhost:8080/",
          "height": 697
        },
        "outputId": "05f0f0a4-1c82-42ca-f63c-c8c9fa1796e5"
      },
      "source": [
        "#Verificando a quantidade de colunas e linhas\n",
        "\n",
        "data.info()"
      ],
      "execution_count": 4,
      "outputs": [
        {
          "output_type": "stream",
          "text": [
            "<class 'pandas.core.frame.DataFrame'>\n",
            "RangeIndex: 1946 entries, 0 to 1945\n",
            "Data columns (total 33 columns):\n",
            " #   Column             Non-Null Count  Dtype  \n",
            "---  ------             --------------  -----  \n",
            " 0   S.No               1946 non-null   int64  \n",
            " 1   actual             1946 non-null   int64  \n",
            " 2   pred               1946 non-null   int64  \n",
            " 3   alive              1946 non-null   float64\n",
            " 4   plod               1946 non-null   float64\n",
            " 5   name               1946 non-null   object \n",
            " 6   title              938 non-null    object \n",
            " 7   male               1946 non-null   int64  \n",
            " 8   culture            677 non-null    object \n",
            " 9   dateOfBirth        433 non-null    float64\n",
            " 10  DateoFdeath        444 non-null    float64\n",
            " 11  mother             21 non-null     object \n",
            " 12  father             26 non-null     object \n",
            " 13  heir               23 non-null     object \n",
            " 14  house              1519 non-null   object \n",
            " 15  spouse             276 non-null    object \n",
            " 16  book1              1946 non-null   int64  \n",
            " 17  book2              1946 non-null   int64  \n",
            " 18  book3              1946 non-null   int64  \n",
            " 19  book4              1946 non-null   int64  \n",
            " 20  book5              1946 non-null   int64  \n",
            " 21  isAliveMother      21 non-null     float64\n",
            " 22  isAliveFather      26 non-null     float64\n",
            " 23  isAliveHeir        23 non-null     float64\n",
            " 24  isAliveSpouse      276 non-null    float64\n",
            " 25  isMarried          1946 non-null   int64  \n",
            " 26  isNoble            1946 non-null   int64  \n",
            " 27  age                433 non-null    float64\n",
            " 28  numDeadRelations   1946 non-null   int64  \n",
            " 29  boolDeadRelations  1946 non-null   int64  \n",
            " 30  isPopular          1946 non-null   int64  \n",
            " 31  popularity         1946 non-null   float64\n",
            " 32  isAlive            1946 non-null   int64  \n",
            "dtypes: float64(10), int64(15), object(8)\n",
            "memory usage: 501.8+ KB\n"
          ],
          "name": "stdout"
        }
      ]
    },
    {
      "cell_type": "code",
      "metadata": {
        "id": "9wb3fKyMTXJK",
        "colab_type": "code",
        "colab": {
          "base_uri": "https://localhost:8080/",
          "height": 595
        },
        "outputId": "b2792550-a40b-40aa-e42c-a135bc5599de"
      },
      "source": [
        "((data.isnull().sum()/data.shape[0])*100).sort_values(ascending = False)"
      ],
      "execution_count": 5,
      "outputs": [
        {
          "output_type": "execute_result",
          "data": {
            "text/plain": [
              "isAliveMother        98.920863\n",
              "mother               98.920863\n",
              "isAliveHeir          98.818088\n",
              "heir                 98.818088\n",
              "isAliveFather        98.663926\n",
              "father               98.663926\n",
              "isAliveSpouse        85.817061\n",
              "spouse               85.817061\n",
              "age                  77.749229\n",
              "dateOfBirth          77.749229\n",
              "DateoFdeath          77.183967\n",
              "culture              65.210689\n",
              "title                51.798561\n",
              "house                21.942446\n",
              "plod                  0.000000\n",
              "name                  0.000000\n",
              "alive                 0.000000\n",
              "pred                  0.000000\n",
              "male                  0.000000\n",
              "actual                0.000000\n",
              "isAlive               0.000000\n",
              "book1                 0.000000\n",
              "popularity            0.000000\n",
              "book2                 0.000000\n",
              "book3                 0.000000\n",
              "book4                 0.000000\n",
              "book5                 0.000000\n",
              "isMarried             0.000000\n",
              "isNoble               0.000000\n",
              "numDeadRelations      0.000000\n",
              "boolDeadRelations     0.000000\n",
              "isPopular             0.000000\n",
              "S.No                  0.000000\n",
              "dtype: float64"
            ]
          },
          "metadata": {
            "tags": []
          },
          "execution_count": 5
        }
      ]
    },
    {
      "cell_type": "code",
      "metadata": {
        "id": "I6woQKcTTcn8",
        "colab_type": "code",
        "colab": {
          "base_uri": "https://localhost:8080/",
          "height": 317
        },
        "outputId": "bfc3a43d-6c3d-48cd-fa77-f699be5a4eb9"
      },
      "source": [
        "data.describe()"
      ],
      "execution_count": 6,
      "outputs": [
        {
          "output_type": "execute_result",
          "data": {
            "text/html": [
              "<div>\n",
              "<style scoped>\n",
              "    .dataframe tbody tr th:only-of-type {\n",
              "        vertical-align: middle;\n",
              "    }\n",
              "\n",
              "    .dataframe tbody tr th {\n",
              "        vertical-align: top;\n",
              "    }\n",
              "\n",
              "    .dataframe thead th {\n",
              "        text-align: right;\n",
              "    }\n",
              "</style>\n",
              "<table border=\"1\" class=\"dataframe\">\n",
              "  <thead>\n",
              "    <tr style=\"text-align: right;\">\n",
              "      <th></th>\n",
              "      <th>S.No</th>\n",
              "      <th>actual</th>\n",
              "      <th>pred</th>\n",
              "      <th>alive</th>\n",
              "      <th>plod</th>\n",
              "      <th>male</th>\n",
              "      <th>dateOfBirth</th>\n",
              "      <th>DateoFdeath</th>\n",
              "      <th>book1</th>\n",
              "      <th>book2</th>\n",
              "      <th>book3</th>\n",
              "      <th>book4</th>\n",
              "      <th>book5</th>\n",
              "      <th>isAliveMother</th>\n",
              "      <th>isAliveFather</th>\n",
              "      <th>isAliveHeir</th>\n",
              "      <th>isAliveSpouse</th>\n",
              "      <th>isMarried</th>\n",
              "      <th>isNoble</th>\n",
              "      <th>age</th>\n",
              "      <th>numDeadRelations</th>\n",
              "      <th>boolDeadRelations</th>\n",
              "      <th>isPopular</th>\n",
              "      <th>popularity</th>\n",
              "      <th>isAlive</th>\n",
              "    </tr>\n",
              "  </thead>\n",
              "  <tbody>\n",
              "    <tr>\n",
              "      <th>count</th>\n",
              "      <td>1946.000000</td>\n",
              "      <td>1946.000000</td>\n",
              "      <td>1946.000000</td>\n",
              "      <td>1946.000000</td>\n",
              "      <td>1946.000000</td>\n",
              "      <td>1946.000000</td>\n",
              "      <td>433.000000</td>\n",
              "      <td>444.000000</td>\n",
              "      <td>1946.000000</td>\n",
              "      <td>1946.000000</td>\n",
              "      <td>1946.000000</td>\n",
              "      <td>1946.000000</td>\n",
              "      <td>1946.000000</td>\n",
              "      <td>21.000000</td>\n",
              "      <td>26.000000</td>\n",
              "      <td>23.000000</td>\n",
              "      <td>276.000000</td>\n",
              "      <td>1946.000000</td>\n",
              "      <td>1946.000000</td>\n",
              "      <td>433.000000</td>\n",
              "      <td>1946.000000</td>\n",
              "      <td>1946.000000</td>\n",
              "      <td>1946.000000</td>\n",
              "      <td>1946.000000</td>\n",
              "      <td>1946.000000</td>\n",
              "    </tr>\n",
              "    <tr>\n",
              "      <th>mean</th>\n",
              "      <td>973.500000</td>\n",
              "      <td>0.745632</td>\n",
              "      <td>0.687050</td>\n",
              "      <td>0.634470</td>\n",
              "      <td>0.365530</td>\n",
              "      <td>0.619219</td>\n",
              "      <td>1577.364896</td>\n",
              "      <td>2950.193694</td>\n",
              "      <td>0.198356</td>\n",
              "      <td>0.374615</td>\n",
              "      <td>0.480473</td>\n",
              "      <td>0.591984</td>\n",
              "      <td>0.395170</td>\n",
              "      <td>0.714286</td>\n",
              "      <td>0.192308</td>\n",
              "      <td>0.652174</td>\n",
              "      <td>0.778986</td>\n",
              "      <td>0.141829</td>\n",
              "      <td>0.460946</td>\n",
              "      <td>-1293.563510</td>\n",
              "      <td>0.305755</td>\n",
              "      <td>0.074512</td>\n",
              "      <td>0.059096</td>\n",
              "      <td>0.089584</td>\n",
              "      <td>0.745632</td>\n",
              "    </tr>\n",
              "    <tr>\n",
              "      <th>std</th>\n",
              "      <td>561.906131</td>\n",
              "      <td>0.435617</td>\n",
              "      <td>0.463813</td>\n",
              "      <td>0.312637</td>\n",
              "      <td>0.312637</td>\n",
              "      <td>0.485704</td>\n",
              "      <td>19565.414460</td>\n",
              "      <td>28192.245529</td>\n",
              "      <td>0.398864</td>\n",
              "      <td>0.484148</td>\n",
              "      <td>0.499747</td>\n",
              "      <td>0.491593</td>\n",
              "      <td>0.489013</td>\n",
              "      <td>0.462910</td>\n",
              "      <td>0.401918</td>\n",
              "      <td>0.486985</td>\n",
              "      <td>0.415684</td>\n",
              "      <td>0.348965</td>\n",
              "      <td>0.498601</td>\n",
              "      <td>19564.340993</td>\n",
              "      <td>1.383910</td>\n",
              "      <td>0.262669</td>\n",
              "      <td>0.235864</td>\n",
              "      <td>0.160568</td>\n",
              "      <td>0.435617</td>\n",
              "    </tr>\n",
              "    <tr>\n",
              "      <th>min</th>\n",
              "      <td>1.000000</td>\n",
              "      <td>0.000000</td>\n",
              "      <td>0.000000</td>\n",
              "      <td>0.000000</td>\n",
              "      <td>0.000000</td>\n",
              "      <td>0.000000</td>\n",
              "      <td>-28.000000</td>\n",
              "      <td>0.000000</td>\n",
              "      <td>0.000000</td>\n",
              "      <td>0.000000</td>\n",
              "      <td>0.000000</td>\n",
              "      <td>0.000000</td>\n",
              "      <td>0.000000</td>\n",
              "      <td>0.000000</td>\n",
              "      <td>0.000000</td>\n",
              "      <td>0.000000</td>\n",
              "      <td>0.000000</td>\n",
              "      <td>0.000000</td>\n",
              "      <td>0.000000</td>\n",
              "      <td>-298001.000000</td>\n",
              "      <td>0.000000</td>\n",
              "      <td>0.000000</td>\n",
              "      <td>0.000000</td>\n",
              "      <td>0.000000</td>\n",
              "      <td>0.000000</td>\n",
              "    </tr>\n",
              "    <tr>\n",
              "      <th>25%</th>\n",
              "      <td>487.250000</td>\n",
              "      <td>0.000000</td>\n",
              "      <td>0.000000</td>\n",
              "      <td>0.391250</td>\n",
              "      <td>0.101000</td>\n",
              "      <td>0.000000</td>\n",
              "      <td>240.000000</td>\n",
              "      <td>282.000000</td>\n",
              "      <td>0.000000</td>\n",
              "      <td>0.000000</td>\n",
              "      <td>0.000000</td>\n",
              "      <td>0.000000</td>\n",
              "      <td>0.000000</td>\n",
              "      <td>0.000000</td>\n",
              "      <td>0.000000</td>\n",
              "      <td>0.000000</td>\n",
              "      <td>1.000000</td>\n",
              "      <td>0.000000</td>\n",
              "      <td>0.000000</td>\n",
              "      <td>18.000000</td>\n",
              "      <td>0.000000</td>\n",
              "      <td>0.000000</td>\n",
              "      <td>0.000000</td>\n",
              "      <td>0.013378</td>\n",
              "      <td>0.000000</td>\n",
              "    </tr>\n",
              "    <tr>\n",
              "      <th>50%</th>\n",
              "      <td>973.500000</td>\n",
              "      <td>1.000000</td>\n",
              "      <td>1.000000</td>\n",
              "      <td>0.735500</td>\n",
              "      <td>0.264500</td>\n",
              "      <td>1.000000</td>\n",
              "      <td>268.000000</td>\n",
              "      <td>299.000000</td>\n",
              "      <td>0.000000</td>\n",
              "      <td>0.000000</td>\n",
              "      <td>0.000000</td>\n",
              "      <td>1.000000</td>\n",
              "      <td>0.000000</td>\n",
              "      <td>1.000000</td>\n",
              "      <td>0.000000</td>\n",
              "      <td>1.000000</td>\n",
              "      <td>1.000000</td>\n",
              "      <td>0.000000</td>\n",
              "      <td>0.000000</td>\n",
              "      <td>27.000000</td>\n",
              "      <td>0.000000</td>\n",
              "      <td>0.000000</td>\n",
              "      <td>0.000000</td>\n",
              "      <td>0.033445</td>\n",
              "      <td>1.000000</td>\n",
              "    </tr>\n",
              "    <tr>\n",
              "      <th>75%</th>\n",
              "      <td>1459.750000</td>\n",
              "      <td>1.000000</td>\n",
              "      <td>1.000000</td>\n",
              "      <td>0.899000</td>\n",
              "      <td>0.608750</td>\n",
              "      <td>1.000000</td>\n",
              "      <td>285.000000</td>\n",
              "      <td>299.000000</td>\n",
              "      <td>0.000000</td>\n",
              "      <td>1.000000</td>\n",
              "      <td>1.000000</td>\n",
              "      <td>1.000000</td>\n",
              "      <td>1.000000</td>\n",
              "      <td>1.000000</td>\n",
              "      <td>0.000000</td>\n",
              "      <td>1.000000</td>\n",
              "      <td>1.000000</td>\n",
              "      <td>0.000000</td>\n",
              "      <td>1.000000</td>\n",
              "      <td>50.000000</td>\n",
              "      <td>0.000000</td>\n",
              "      <td>0.000000</td>\n",
              "      <td>0.000000</td>\n",
              "      <td>0.086957</td>\n",
              "      <td>1.000000</td>\n",
              "    </tr>\n",
              "    <tr>\n",
              "      <th>max</th>\n",
              "      <td>1946.000000</td>\n",
              "      <td>1.000000</td>\n",
              "      <td>1.000000</td>\n",
              "      <td>1.000000</td>\n",
              "      <td>1.000000</td>\n",
              "      <td>1.000000</td>\n",
              "      <td>298299.000000</td>\n",
              "      <td>298299.000000</td>\n",
              "      <td>1.000000</td>\n",
              "      <td>1.000000</td>\n",
              "      <td>1.000000</td>\n",
              "      <td>1.000000</td>\n",
              "      <td>1.000000</td>\n",
              "      <td>1.000000</td>\n",
              "      <td>1.000000</td>\n",
              "      <td>1.000000</td>\n",
              "      <td>1.000000</td>\n",
              "      <td>1.000000</td>\n",
              "      <td>1.000000</td>\n",
              "      <td>100.000000</td>\n",
              "      <td>15.000000</td>\n",
              "      <td>1.000000</td>\n",
              "      <td>1.000000</td>\n",
              "      <td>1.000000</td>\n",
              "      <td>1.000000</td>\n",
              "    </tr>\n",
              "  </tbody>\n",
              "</table>\n",
              "</div>"
            ],
            "text/plain": [
              "              S.No       actual  ...   popularity      isAlive\n",
              "count  1946.000000  1946.000000  ...  1946.000000  1946.000000\n",
              "mean    973.500000     0.745632  ...     0.089584     0.745632\n",
              "std     561.906131     0.435617  ...     0.160568     0.435617\n",
              "min       1.000000     0.000000  ...     0.000000     0.000000\n",
              "25%     487.250000     0.000000  ...     0.013378     0.000000\n",
              "50%     973.500000     1.000000  ...     0.033445     1.000000\n",
              "75%    1459.750000     1.000000  ...     0.086957     1.000000\n",
              "max    1946.000000     1.000000  ...     1.000000     1.000000\n",
              "\n",
              "[8 rows x 25 columns]"
            ]
          },
          "metadata": {
            "tags": []
          },
          "execution_count": 6
        }
      ]
    },
    {
      "cell_type": "code",
      "metadata": {
        "id": "tqM0O1FATf3b",
        "colab_type": "code",
        "colab": {
          "base_uri": "https://localhost:8080/",
          "height": 34
        },
        "outputId": "c5b4d876-0c9c-47fb-fc10-b127b22d3c1c"
      },
      "source": [
        "print(data['age'].mean())"
      ],
      "execution_count": 7,
      "outputs": [
        {
          "output_type": "stream",
          "text": [
            "-1293.5635103926097\n"
          ],
          "name": "stdout"
        }
      ]
    },
    {
      "cell_type": "code",
      "metadata": {
        "id": "tggIJDDtUA8M",
        "colab_type": "code",
        "colab": {
          "base_uri": "https://localhost:8080/",
          "height": 68
        },
        "outputId": "8e1880d9-2ad5-46ed-e170-880153bb974c"
      },
      "source": [
        "print(data['name'][data['age'] < 0])"
      ],
      "execution_count": 8,
      "outputs": [
        {
          "output_type": "stream",
          "text": [
            "1684    Doreah\n",
            "1868    Rhaego\n",
            "Name: name, dtype: object\n"
          ],
          "name": "stdout"
        }
      ]
    },
    {
      "cell_type": "code",
      "metadata": {
        "id": "0dPU6ThlUedJ",
        "colab_type": "code",
        "colab": {}
      },
      "source": [
        "data.loc[1684, \"age\"] = 25.0\n",
        "data.loc[1868, \"age\"] = 0.0"
      ],
      "execution_count": 9,
      "outputs": []
    },
    {
      "cell_type": "code",
      "metadata": {
        "id": "TRHnBHRYU4nn",
        "colab_type": "code",
        "colab": {
          "base_uri": "https://localhost:8080/",
          "height": 34
        },
        "outputId": "1418d557-3df7-41f9-b1a1-793b5d91f7cb"
      },
      "source": [
        "print(data['age'].mean())"
      ],
      "execution_count": 10,
      "outputs": [
        {
          "output_type": "stream",
          "text": [
            "36.70438799076212\n"
          ],
          "name": "stdout"
        }
      ]
    },
    {
      "cell_type": "code",
      "metadata": {
        "id": "VeZi4susVJJ2",
        "colab_type": "code",
        "colab": {}
      },
      "source": [
        "data['age'].fillna(data['age'].mean(), inplace = True)\n",
        "data['culture'].fillna(\"\", inplace = True)\n",
        "\n",
        "data.fillna(-1, inplace = True)"
      ],
      "execution_count": 11,
      "outputs": []
    },
    {
      "cell_type": "code",
      "metadata": {
        "id": "wqvpZoF7VfBX",
        "colab_type": "code",
        "colab": {
          "base_uri": "https://localhost:8080/",
          "height": 282
        },
        "outputId": "3252d1b5-4e42-4abe-fb55-1dbda7d84c5f"
      },
      "source": [
        "data.boxplot(['alive','popularity'])"
      ],
      "execution_count": 12,
      "outputs": [
        {
          "output_type": "execute_result",
          "data": {
            "text/plain": [
              "<matplotlib.axes._subplots.AxesSubplot at 0x7fe7ee654b38>"
            ]
          },
          "metadata": {
            "tags": []
          },
          "execution_count": 12
        },
        {
          "output_type": "display_data",
          "data": {
            "image/png": "[encoded data removed]",
            "text/plain": [
              "<Figure size 432x288 with 1 Axes>"
            ]
          },
          "metadata": {
            "tags": [],
            "needs_background": "light"
          }
        }
      ]
    },
    {
      "cell_type": "code",
      "metadata": {
        "id": "ksoMx-WgVi_V",
        "colab_type": "code",
        "colab": {
          "base_uri": "https://localhost:8080/",
          "height": 136
        },
        "outputId": "32377838-2464-4ad5-8952-d32570311645"
      },
      "source": [
        "data.columns"
      ],
      "execution_count": 13,
      "outputs": [
        {
          "output_type": "execute_result",
          "data": {
            "text/plain": [
              "Index(['S.No', 'actual', 'pred', 'alive', 'plod', 'name', 'title', 'male',\n",
              "       'culture', 'dateOfBirth', 'DateoFdeath', 'mother', 'father', 'heir',\n",
              "       'house', 'spouse', 'book1', 'book2', 'book3', 'book4', 'book5',\n",
              "       'isAliveMother', 'isAliveFather', 'isAliveHeir', 'isAliveSpouse',\n",
              "       'isMarried', 'isNoble', 'age', 'numDeadRelations', 'boolDeadRelations',\n",
              "       'isPopular', 'popularity', 'isAlive'],\n",
              "      dtype='object')"
            ]
          },
          "metadata": {
            "tags": []
          },
          "execution_count": 13
        }
      ]
    },
    {
      "cell_type": "code",
      "metadata": {
        "id": "uc6rZ0bqWYcC",
        "colab_type": "code",
        "colab": {}
      },
      "source": [
        "drop = ['S.No', 'pred','alive','name','isAlive','DateoFdeath']"
      ],
      "execution_count": 15,
      "outputs": []
    },
    {
      "cell_type": "code",
      "metadata": {
        "id": "4pN7Q7ILWh21",
        "colab_type": "code",
        "colab": {}
      },
      "source": [
        "data_2 = data.drop(drop, inplace = True, axis = 1)"
      ],
      "execution_count": 16,
      "outputs": []
    },
    {
      "cell_type": "code",
      "metadata": {
        "id": "KlOfOxHPWmb1",
        "colab_type": "code",
        "colab": {}
      },
      "source": [
        "data_2 = pd.get_dummies(data)"
      ],
      "execution_count": 17,
      "outputs": []
    },
    {
      "cell_type": "code",
      "metadata": {
        "id": "JFV9YksfWr4B",
        "colab_type": "code",
        "colab": {}
      },
      "source": [
        "data_2.drop(\"plod\", inplace = True, axis = 1)"
      ],
      "execution_count": 18,
      "outputs": []
    },
    {
      "cell_type": "code",
      "metadata": {
        "id": "d_40vOBcW_Rg",
        "colab_type": "code",
        "colab": {
          "base_uri": "https://localhost:8080/",
          "height": 34
        },
        "outputId": "e1925d25-05db-4e8d-d462-e744b76f8ec4"
      },
      "source": [
        "data_2.shape"
      ],
      "execution_count": 19,
      "outputs": [
        {
          "output_type": "execute_result",
          "data": {
            "text/plain": [
              "(1946, 1012)"
            ]
          },
          "metadata": {
            "tags": []
          },
          "execution_count": 19
        }
      ]
    },
    {
      "cell_type": "code",
      "metadata": {
        "id": "dN_d_TA3XM9z",
        "colab_type": "code",
        "colab": {}
      },
      "source": [
        "x = data_2.iloc[:,1:].values\n",
        "y = data_2.iloc[:, 0].values"
      ],
      "execution_count": 20,
      "outputs": []
    },
    {
      "cell_type": "code",
      "metadata": {
        "id": "6Cll0RCDX7nb",
        "colab_type": "code",
        "colab": {}
      },
      "source": [
        "#Separando os dados para a vailidação cruzada\n",
        "\n",
        "kfold = KFold(n_splits = 5, shuffle = True, random_state = 42)"
      ],
      "execution_count": 21,
      "outputs": []
    },
    {
      "cell_type": "code",
      "metadata": {
        "id": "4Tj6Kbr2YR5w",
        "colab_type": "code",
        "colab": {
          "base_uri": "https://localhost:8080/",
          "height": 34
        },
        "outputId": "41868baa-7b75-42fd-be06-c4a1fd04fe84"
      },
      "source": [
        "kfold.get_n_splits()"
      ],
      "execution_count": 22,
      "outputs": [
        {
          "output_type": "execute_result",
          "data": {
            "text/plain": [
              "5"
            ]
          },
          "metadata": {
            "tags": []
          },
          "execution_count": 22
        }
      ]
    },
    {
      "cell_type": "code",
      "metadata": {
        "id": "Lc8qYqa_YU3O",
        "colab_type": "code",
        "colab": {}
      },
      "source": [
        "modelo = [LogisticRegression(solver = 'liblinear'),RandomForestClassifier(n_estimators=400, random_state=42), DecisionTreeClassifier(random_state = 42),SVC(kernel='linear',gamma='scale',random_state=42),KNeighborsClassifier()]"
      ],
      "execution_count": 23,
      "outputs": []
    },
    {
      "cell_type": "code",
      "metadata": {
        "id": "p-37Ci1KY7Sy",
        "colab_type": "code",
        "colab": {}
      },
      "source": [
        "mean = []\n",
        "std = []\n",
        "\n",
        "for model in modelo:\n",
        "  result = cross_val_score(model, x,y, cv = kfold, scoring = 'accuracy',n_jobs = -1)\n",
        "  mean.append(result)\n",
        "  std.append(result)"
      ],
      "execution_count": 26,
      "outputs": []
    },
    {
      "cell_type": "code",
      "metadata": {
        "id": "H5YESB1hZRod",
        "colab_type": "code",
        "colab": {
          "base_uri": "https://localhost:8080/",
          "height": 102
        },
        "outputId": "f7dde4cc-1a02-4587-957f-75fab77ba318"
      },
      "source": [
        "mean"
      ],
      "execution_count": 27,
      "outputs": [
        {
          "output_type": "execute_result",
          "data": {
            "text/plain": [
              "[array([0.7974359 , 0.75064267, 0.77120823, 0.78663239, 0.80462725]),\n",
              " array([0.81794872, 0.81491003, 0.82005141, 0.8277635 , 0.8277635 ]),\n",
              " array([0.80512821, 0.80462725, 0.79948586, 0.76863753, 0.80462725]),\n",
              " array([0.76923077, 0.72750643, 0.75835476, 0.79177378, 0.781491  ]),\n",
              " array([0.83076923, 0.82005141, 0.82262211, 0.85347044, 0.8277635 ])]"
            ]
          },
          "metadata": {
            "tags": []
          },
          "execution_count": 27
        }
      ]
    },
    {
      "cell_type": "code",
      "metadata": {
        "id": "gUFNxed9Zc7r",
        "colab_type": "code",
        "colab": {
          "base_uri": "https://localhost:8080/",
          "height": 639
        },
        "outputId": "e1c6ea05-a6cc-4eed-ea5a-0f374e15f39e"
      },
      "source": [
        "classificadores = ['Regressão Logística','Random Forest','Árvore de Decisão','SVM','KNN']\n",
        "\n",
        "plt.figure(figsize = (20,10))\n",
        "\n",
        "for i in range(len(mean)):\n",
        "  sns.distplot(mean[i], hist = False, kde_kws={'shade':True})\n",
        "\n",
        "plt.title(\"Distribuição de cada um dos classificadores\", fontsize = 15)\n",
        "plt.legend(classificadores)\n",
        "plt.xlabel(\"Acurácia\", labelpad = 20)\n",
        "plt.show()"
      ],
      "execution_count": 28,
      "outputs": [
        {
          "output_type": "display_data",
          "data": {
            "image/png": "[encoded data removed]",
            "text/plain": [
              "<Figure size 1440x720 with 1 Axes>"
            ]
          },
          "metadata": {
            "tags": [],
            "needs_background": "light"
          }
        }
      ]
    },
    {
      "cell_type": "markdown",
      "metadata": {
        "id": "Hjf-ATF7bh6y",
        "colab_type": "text"
      },
      "source": [
        "# QUAL MODELO É MELHOR PARA SER UTILIZADO?"
      ]
    },
    {
      "cell_type": "code",
      "metadata": {
        "id": "eN6OiYe2bKT8",
        "colab_type": "code",
        "colab": {}
      },
      "source": [
        "X_train,X_test,y_train,y_test = train_test_split(x,y, test_size = 0.2, stratify = y, random_state = 42, shuffle = True)"
      ],
      "execution_count": 77,
      "outputs": []
    },
    {
      "cell_type": "code",
      "metadata": {
        "id": "e-FWZFHjcDKP",
        "colab_type": "code",
        "colab": {}
      },
      "source": [
        "#SVM e RandomForest\n",
        "\n",
        "svm_clf = SVC(C = 0.9, gamma = 0.1, kernel = 'linear',probability = True, random_state = 42)\n",
        "rf_clf = RandomForestClassifier(n_estimators=400,n_jobs = -1, random_state = 42)"
      ],
      "execution_count": 81,
      "outputs": []
    },
    {
      "cell_type": "code",
      "metadata": {
        "id": "3hkIMH2ecEi0",
        "colab_type": "code",
        "colab": {
          "base_uri": "https://localhost:8080/",
          "height": 153
        },
        "outputId": "0d62b6ea-8f25-4e66-d666-f5d979277b78"
      },
      "source": [
        "svm_clf.fit(X_train,y_train)\n",
        "rf_clf.fit(X_train,y_train)"
      ],
      "execution_count": 82,
      "outputs": [
        {
          "output_type": "execute_result",
          "data": {
            "text/plain": [
              "RandomForestClassifier(bootstrap=True, ccp_alpha=0.0, class_weight=None,\n",
              "                       criterion='gini', max_depth=None, max_features='auto',\n",
              "                       max_leaf_nodes=None, max_samples=None,\n",
              "                       min_impurity_decrease=0.0, min_impurity_split=None,\n",
              "                       min_samples_leaf=1, min_samples_split=2,\n",
              "                       min_weight_fraction_leaf=0.0, n_estimators=400,\n",
              "                       n_jobs=-1, oob_score=False, random_state=42, verbose=0,\n",
              "                       warm_start=False)"
            ]
          },
          "metadata": {
            "tags": []
          },
          "execution_count": 82
        }
      ]
    },
    {
      "cell_type": "code",
      "metadata": {
        "id": "uvCab257cgqV",
        "colab_type": "code",
        "colab": {}
      },
      "source": [
        "y_pred_svm = svm_clf.predict_proba(X_test)\n",
        "y_pred_rf = rf_clf.predict_proba(X_test)"
      ],
      "execution_count": 84,
      "outputs": []
    },
    {
      "cell_type": "code",
      "metadata": {
        "id": "FOWAAMOOdAxJ",
        "colab_type": "code",
        "colab": {}
      },
      "source": [
        "svm_proba = np.argmax(y_pred_svm, axis = 1)\n",
        "rf_pred = np.argmax(y_pred_rf, axis = 1)"
      ],
      "execution_count": 94,
      "outputs": []
    },
    {
      "cell_type": "code",
      "metadata": {
        "id": "Ti9FEHhudBf6",
        "colab_type": "code",
        "colab": {}
      },
      "source": [
        "cm = metrics.confusion_matrix(y_test, svm_proba)\n",
        "\n",
        "cm = cm.astype('float') / cm.sum(axis = 1)[:, np.newaxis]\n",
        "cm2 = metrics.confusion_matrix(y_test,rf_pred)\n",
        "cm2 = cm2.astype('float')/cm2.sum(axis = 1)[:, np.newaxis]"
      ],
      "execution_count": 102,
      "outputs": []
    },
    {
      "cell_type": "code",
      "metadata": {
        "id": "fWWxs8M0dNtB",
        "colab_type": "code",
        "colab": {
          "base_uri": "https://localhost:8080/",
          "height": 355
        },
        "outputId": "93ca8623-3908-4f71-8dfa-9ee9831969d8"
      },
      "source": [
        "classes = ['Morto','Vivo']\n",
        "\n",
        "fig, ax = plt.subplots(1,2, figsize = (15,5))\n",
        "ax[0].set_title(\"SVM\", fontsize = 15)\n",
        "sns.heatmap(pd.DataFrame(cm, index = classes, columns = classes), cmap = 'RdBu', annot = True, ax = ax[0])\n",
        "ax[1].set_title(\"RF\", fontsize = 15)\n",
        "sns.heatmap(pd.DataFrame(cm2, index = classes, columns = classes), cmap = \"RdBu\", annot = True, ax = ax[1])"
      ],
      "execution_count": 106,
      "outputs": [
        {
          "output_type": "execute_result",
          "data": {
            "text/plain": [
              "<matplotlib.axes._subplots.AxesSubplot at 0x7fcecdd4e6d8>"
            ]
          },
          "metadata": {
            "tags": []
          },
          "execution_count": 106
        },
        {
          "output_type": "display_data",
          "data": {
            "image/png": "[encoded data removed]",
            "text/plain": [
              "<Figure size 1080x360 with 4 Axes>"
            ]
          },
          "metadata": {
            "tags": [],
            "needs_background": "light"
          }
        }
      ]
    },
    {
      "cell_type": "code",
      "metadata": {
        "id": "_n7WtMBFeI-C",
        "colab_type": "code",
        "colab": {}
      },
      "source": [
        ""
      ],
      "execution_count": null,
      "outputs": []
    }
  ]
}